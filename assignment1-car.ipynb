{
 "cells": [
  {
   "cell_type": "markdown",
   "metadata": {},
   "source": [
    "# 1. Importing libraries\n"
   ]
  },
  {
   "cell_type": "code",
   "execution_count": 92,
   "metadata": {},
   "outputs": [],
   "source": [
    "import pandas as pd\n",
    "import numpy as np\n",
    "import matplotlib.pyplot as plt\n",
    "import seaborn as sns"
   ]
  },
  {
   "cell_type": "markdown",
   "metadata": {},
   "source": [
    "# 2. importing dataset"
   ]
  },
  {
   "cell_type": "code",
   "execution_count": 93,
   "metadata": {},
   "outputs": [],
   "source": [
    "df=pd.read_csv(\"cars_price.csv\")\n"
   ]
  },
  {
   "cell_type": "markdown",
   "metadata": {},
   "source": [
    "# 3. Exploring the dataset"
   ]
  },
  {
   "cell_type": "code",
   "execution_count": 94,
   "metadata": {},
   "outputs": [
    {
     "data": {
      "text/html": [
       "<div>\n",
       "<style scoped>\n",
       "    .dataframe tbody tr th:only-of-type {\n",
       "        vertical-align: middle;\n",
       "    }\n",
       "\n",
       "    .dataframe tbody tr th {\n",
       "        vertical-align: top;\n",
       "    }\n",
       "\n",
       "    .dataframe thead th {\n",
       "        text-align: right;\n",
       "    }\n",
       "</style>\n",
       "<table border=\"1\" class=\"dataframe\">\n",
       "  <thead>\n",
       "    <tr style=\"text-align: right;\">\n",
       "      <th></th>\n",
       "      <th>Unnamed: 0</th>\n",
       "      <th>make</th>\n",
       "      <th>model</th>\n",
       "      <th>priceUSD</th>\n",
       "      <th>year</th>\n",
       "      <th>condition</th>\n",
       "      <th>mileage(kilometers)</th>\n",
       "      <th>fuel_type</th>\n",
       "      <th>volume(cm3)</th>\n",
       "      <th>color</th>\n",
       "      <th>transmission</th>\n",
       "      <th>drive_unit</th>\n",
       "      <th>segment</th>\n",
       "    </tr>\n",
       "  </thead>\n",
       "  <tbody>\n",
       "    <tr>\n",
       "      <th>0</th>\n",
       "      <td>0</td>\n",
       "      <td>honda</td>\n",
       "      <td>accord</td>\n",
       "      <td>565</td>\n",
       "      <td>1993</td>\n",
       "      <td>with mileage</td>\n",
       "      <td>960015.0</td>\n",
       "      <td>petrol</td>\n",
       "      <td>2000.0</td>\n",
       "      <td>black</td>\n",
       "      <td>mechanics</td>\n",
       "      <td>front-wheel drive</td>\n",
       "      <td>D</td>\n",
       "    </tr>\n",
       "    <tr>\n",
       "      <th>1</th>\n",
       "      <td>1</td>\n",
       "      <td>ford</td>\n",
       "      <td>fusion</td>\n",
       "      <td>5550</td>\n",
       "      <td>2008</td>\n",
       "      <td>with mileage</td>\n",
       "      <td>172000.0</td>\n",
       "      <td>diesel</td>\n",
       "      <td>1400.0</td>\n",
       "      <td>silver</td>\n",
       "      <td>mechanics</td>\n",
       "      <td>front-wheel drive</td>\n",
       "      <td>M</td>\n",
       "    </tr>\n",
       "    <tr>\n",
       "      <th>2</th>\n",
       "      <td>2</td>\n",
       "      <td>nissan</td>\n",
       "      <td>teana</td>\n",
       "      <td>8300</td>\n",
       "      <td>2008</td>\n",
       "      <td>with mileage</td>\n",
       "      <td>223000.0</td>\n",
       "      <td>petrol</td>\n",
       "      <td>2500.0</td>\n",
       "      <td>purple</td>\n",
       "      <td>auto</td>\n",
       "      <td>front-wheel drive</td>\n",
       "      <td>D</td>\n",
       "    </tr>\n",
       "    <tr>\n",
       "      <th>3</th>\n",
       "      <td>3</td>\n",
       "      <td>volkswagen</td>\n",
       "      <td>fox</td>\n",
       "      <td>3300</td>\n",
       "      <td>2005</td>\n",
       "      <td>with mileage</td>\n",
       "      <td>140000.0</td>\n",
       "      <td>petrol</td>\n",
       "      <td>1200.0</td>\n",
       "      <td>blue</td>\n",
       "      <td>mechanics</td>\n",
       "      <td>front-wheel drive</td>\n",
       "      <td>A</td>\n",
       "    </tr>\n",
       "    <tr>\n",
       "      <th>4</th>\n",
       "      <td>4</td>\n",
       "      <td>nissan</td>\n",
       "      <td>primera</td>\n",
       "      <td>2450</td>\n",
       "      <td>2002</td>\n",
       "      <td>with damage</td>\n",
       "      <td>413000.0</td>\n",
       "      <td>diesel</td>\n",
       "      <td>2200.0</td>\n",
       "      <td>burgundy</td>\n",
       "      <td>mechanics</td>\n",
       "      <td>front-wheel drive</td>\n",
       "      <td>D</td>\n",
       "    </tr>\n",
       "  </tbody>\n",
       "</table>\n",
       "</div>"
      ],
      "text/plain": [
       "   Unnamed: 0        make    model  priceUSD  year     condition  \\\n",
       "0           0       honda   accord       565  1993  with mileage   \n",
       "1           1        ford   fusion      5550  2008  with mileage   \n",
       "2           2      nissan    teana      8300  2008  with mileage   \n",
       "3           3  volkswagen      fox      3300  2005  with mileage   \n",
       "4           4      nissan  primera      2450  2002   with damage   \n",
       "\n",
       "   mileage(kilometers) fuel_type  volume(cm3)     color transmission  \\\n",
       "0             960015.0    petrol       2000.0     black    mechanics   \n",
       "1             172000.0    diesel       1400.0    silver    mechanics   \n",
       "2             223000.0    petrol       2500.0    purple         auto   \n",
       "3             140000.0    petrol       1200.0      blue    mechanics   \n",
       "4             413000.0    diesel       2200.0  burgundy    mechanics   \n",
       "\n",
       "          drive_unit segment  \n",
       "0  front-wheel drive       D  \n",
       "1  front-wheel drive       M  \n",
       "2  front-wheel drive       D  \n",
       "3  front-wheel drive       A  \n",
       "4  front-wheel drive       D  "
      ]
     },
     "execution_count": 94,
     "metadata": {},
     "output_type": "execute_result"
    }
   ],
   "source": [
    "df.head()"
   ]
  },
  {
   "cell_type": "code",
   "execution_count": 95,
   "metadata": {},
   "outputs": [
    {
     "data": {
      "text/html": [
       "<div>\n",
       "<style scoped>\n",
       "    .dataframe tbody tr th:only-of-type {\n",
       "        vertical-align: middle;\n",
       "    }\n",
       "\n",
       "    .dataframe tbody tr th {\n",
       "        vertical-align: top;\n",
       "    }\n",
       "\n",
       "    .dataframe thead th {\n",
       "        text-align: right;\n",
       "    }\n",
       "</style>\n",
       "<table border=\"1\" class=\"dataframe\">\n",
       "  <thead>\n",
       "    <tr style=\"text-align: right;\">\n",
       "      <th></th>\n",
       "      <th>Unnamed: 0</th>\n",
       "      <th>make</th>\n",
       "      <th>model</th>\n",
       "      <th>priceUSD</th>\n",
       "      <th>year</th>\n",
       "      <th>condition</th>\n",
       "      <th>mileage(kilometers)</th>\n",
       "      <th>fuel_type</th>\n",
       "      <th>volume(cm3)</th>\n",
       "      <th>color</th>\n",
       "      <th>transmission</th>\n",
       "      <th>drive_unit</th>\n",
       "      <th>segment</th>\n",
       "    </tr>\n",
       "  </thead>\n",
       "  <tbody>\n",
       "    <tr>\n",
       "      <th>39995</th>\n",
       "      <td>39995</td>\n",
       "      <td>jeep</td>\n",
       "      <td>grand-cherokee</td>\n",
       "      <td>12500</td>\n",
       "      <td>2008</td>\n",
       "      <td>with mileage</td>\n",
       "      <td>214000.0</td>\n",
       "      <td>petrol</td>\n",
       "      <td>3700.0</td>\n",
       "      <td>silver</td>\n",
       "      <td>auto</td>\n",
       "      <td>all-wheel drive</td>\n",
       "      <td>J</td>\n",
       "    </tr>\n",
       "    <tr>\n",
       "      <th>39996</th>\n",
       "      <td>39996</td>\n",
       "      <td>peugeot</td>\n",
       "      <td>607</td>\n",
       "      <td>4754</td>\n",
       "      <td>2001</td>\n",
       "      <td>with mileage</td>\n",
       "      <td>295000.0</td>\n",
       "      <td>petrol</td>\n",
       "      <td>2200.0</td>\n",
       "      <td>blue</td>\n",
       "      <td>mechanics</td>\n",
       "      <td>front-wheel drive</td>\n",
       "      <td>E</td>\n",
       "    </tr>\n",
       "    <tr>\n",
       "      <th>39997</th>\n",
       "      <td>39997</td>\n",
       "      <td>mercedes-benz</td>\n",
       "      <td>c-klass</td>\n",
       "      <td>4000</td>\n",
       "      <td>1999</td>\n",
       "      <td>with mileage</td>\n",
       "      <td>0.0</td>\n",
       "      <td>diesel</td>\n",
       "      <td>2200.0</td>\n",
       "      <td>other</td>\n",
       "      <td>mechanics</td>\n",
       "      <td>rear drive</td>\n",
       "      <td>D</td>\n",
       "    </tr>\n",
       "    <tr>\n",
       "      <th>39998</th>\n",
       "      <td>39998</td>\n",
       "      <td>proton</td>\n",
       "      <td>persona</td>\n",
       "      <td>1200</td>\n",
       "      <td>1996</td>\n",
       "      <td>with mileage</td>\n",
       "      <td>250000.0</td>\n",
       "      <td>petrol</td>\n",
       "      <td>1300.0</td>\n",
       "      <td>other</td>\n",
       "      <td>mechanics</td>\n",
       "      <td>front-wheel drive</td>\n",
       "      <td>NaN</td>\n",
       "    </tr>\n",
       "    <tr>\n",
       "      <th>39999</th>\n",
       "      <td>39999</td>\n",
       "      <td>mercedes-benz</td>\n",
       "      <td>190-w201</td>\n",
       "      <td>744</td>\n",
       "      <td>1986</td>\n",
       "      <td>with mileage</td>\n",
       "      <td>272344.0</td>\n",
       "      <td>diesel</td>\n",
       "      <td>1997.0</td>\n",
       "      <td>silver</td>\n",
       "      <td>mechanics</td>\n",
       "      <td>rear drive</td>\n",
       "      <td>D</td>\n",
       "    </tr>\n",
       "  </tbody>\n",
       "</table>\n",
       "</div>"
      ],
      "text/plain": [
       "       Unnamed: 0           make           model  priceUSD  year  \\\n",
       "39995       39995           jeep  grand-cherokee     12500  2008   \n",
       "39996       39996        peugeot             607      4754  2001   \n",
       "39997       39997  mercedes-benz         c-klass      4000  1999   \n",
       "39998       39998         proton         persona      1200  1996   \n",
       "39999       39999  mercedes-benz        190-w201       744  1986   \n",
       "\n",
       "          condition  mileage(kilometers) fuel_type  volume(cm3)   color  \\\n",
       "39995  with mileage             214000.0    petrol       3700.0  silver   \n",
       "39996  with mileage             295000.0    petrol       2200.0    blue   \n",
       "39997  with mileage                  0.0    diesel       2200.0   other   \n",
       "39998  with mileage             250000.0    petrol       1300.0   other   \n",
       "39999  with mileage             272344.0    diesel       1997.0  silver   \n",
       "\n",
       "      transmission         drive_unit segment  \n",
       "39995         auto    all-wheel drive       J  \n",
       "39996    mechanics  front-wheel drive       E  \n",
       "39997    mechanics         rear drive       D  \n",
       "39998    mechanics  front-wheel drive     NaN  \n",
       "39999    mechanics         rear drive       D  "
      ]
     },
     "execution_count": 95,
     "metadata": {},
     "output_type": "execute_result"
    }
   ],
   "source": [
    "df.tail()"
   ]
  },
  {
   "cell_type": "code",
   "execution_count": 96,
   "metadata": {},
   "outputs": [
    {
     "data": {
      "text/html": [
       "<div>\n",
       "<style scoped>\n",
       "    .dataframe tbody tr th:only-of-type {\n",
       "        vertical-align: middle;\n",
       "    }\n",
       "\n",
       "    .dataframe tbody tr th {\n",
       "        vertical-align: top;\n",
       "    }\n",
       "\n",
       "    .dataframe thead th {\n",
       "        text-align: right;\n",
       "    }\n",
       "</style>\n",
       "<table border=\"1\" class=\"dataframe\">\n",
       "  <thead>\n",
       "    <tr style=\"text-align: right;\">\n",
       "      <th></th>\n",
       "      <th>Unnamed: 0</th>\n",
       "      <th>priceUSD</th>\n",
       "      <th>year</th>\n",
       "      <th>mileage(kilometers)</th>\n",
       "      <th>volume(cm3)</th>\n",
       "    </tr>\n",
       "  </thead>\n",
       "  <tbody>\n",
       "    <tr>\n",
       "      <th>count</th>\n",
       "      <td>40000.00000</td>\n",
       "      <td>40000.000000</td>\n",
       "      <td>40000.000000</td>\n",
       "      <td>4.000000e+04</td>\n",
       "      <td>39970.000000</td>\n",
       "    </tr>\n",
       "    <tr>\n",
       "      <th>mean</th>\n",
       "      <td>19999.50000</td>\n",
       "      <td>7430.383775</td>\n",
       "      <td>2003.485625</td>\n",
       "      <td>2.434332e+05</td>\n",
       "      <td>2103.201676</td>\n",
       "    </tr>\n",
       "    <tr>\n",
       "      <th>std</th>\n",
       "      <td>11547.14972</td>\n",
       "      <td>8338.242134</td>\n",
       "      <td>8.114896</td>\n",
       "      <td>3.167033e+05</td>\n",
       "      <td>938.724653</td>\n",
       "    </tr>\n",
       "    <tr>\n",
       "      <th>min</th>\n",
       "      <td>0.00000</td>\n",
       "      <td>95.000000</td>\n",
       "      <td>1938.000000</td>\n",
       "      <td>0.000000e+00</td>\n",
       "      <td>500.000000</td>\n",
       "    </tr>\n",
       "    <tr>\n",
       "      <th>25%</th>\n",
       "      <td>9999.75000</td>\n",
       "      <td>2350.000000</td>\n",
       "      <td>1998.000000</td>\n",
       "      <td>1.370000e+05</td>\n",
       "      <td>1600.000000</td>\n",
       "    </tr>\n",
       "    <tr>\n",
       "      <th>50%</th>\n",
       "      <td>19999.50000</td>\n",
       "      <td>5350.000000</td>\n",
       "      <td>2004.000000</td>\n",
       "      <td>2.280000e+05</td>\n",
       "      <td>1995.000000</td>\n",
       "    </tr>\n",
       "    <tr>\n",
       "      <th>75%</th>\n",
       "      <td>29999.25000</td>\n",
       "      <td>9850.000000</td>\n",
       "      <td>2010.000000</td>\n",
       "      <td>3.087610e+05</td>\n",
       "      <td>2300.000000</td>\n",
       "    </tr>\n",
       "    <tr>\n",
       "      <th>max</th>\n",
       "      <td>39999.00000</td>\n",
       "      <td>195000.000000</td>\n",
       "      <td>2019.000000</td>\n",
       "      <td>9.999999e+06</td>\n",
       "      <td>20000.000000</td>\n",
       "    </tr>\n",
       "  </tbody>\n",
       "</table>\n",
       "</div>"
      ],
      "text/plain": [
       "        Unnamed: 0       priceUSD          year  mileage(kilometers)  \\\n",
       "count  40000.00000   40000.000000  40000.000000         4.000000e+04   \n",
       "mean   19999.50000    7430.383775   2003.485625         2.434332e+05   \n",
       "std    11547.14972    8338.242134      8.114896         3.167033e+05   \n",
       "min        0.00000      95.000000   1938.000000         0.000000e+00   \n",
       "25%     9999.75000    2350.000000   1998.000000         1.370000e+05   \n",
       "50%    19999.50000    5350.000000   2004.000000         2.280000e+05   \n",
       "75%    29999.25000    9850.000000   2010.000000         3.087610e+05   \n",
       "max    39999.00000  195000.000000   2019.000000         9.999999e+06   \n",
       "\n",
       "        volume(cm3)  \n",
       "count  39970.000000  \n",
       "mean    2103.201676  \n",
       "std      938.724653  \n",
       "min      500.000000  \n",
       "25%     1600.000000  \n",
       "50%     1995.000000  \n",
       "75%     2300.000000  \n",
       "max    20000.000000  "
      ]
     },
     "execution_count": 96,
     "metadata": {},
     "output_type": "execute_result"
    }
   ],
   "source": [
    "df.describe()"
   ]
  },
  {
   "cell_type": "code",
   "execution_count": 97,
   "metadata": {},
   "outputs": [
    {
     "name": "stdout",
     "output_type": "stream",
     "text": [
      "<class 'pandas.core.frame.DataFrame'>\n",
      "RangeIndex: 40000 entries, 0 to 39999\n",
      "Data columns (total 13 columns):\n",
      " #   Column               Non-Null Count  Dtype  \n",
      "---  ------               --------------  -----  \n",
      " 0   Unnamed: 0           40000 non-null  int64  \n",
      " 1   make                 40000 non-null  object \n",
      " 2   model                40000 non-null  object \n",
      " 3   priceUSD             40000 non-null  int64  \n",
      " 4   year                 40000 non-null  int64  \n",
      " 5   condition            40000 non-null  object \n",
      " 6   mileage(kilometers)  40000 non-null  float64\n",
      " 7   fuel_type            40000 non-null  object \n",
      " 8   volume(cm3)          39970 non-null  float64\n",
      " 9   color                40000 non-null  object \n",
      " 10  transmission         40000 non-null  object \n",
      " 11  drive_unit           38655 non-null  object \n",
      " 12  segment              36245 non-null  object \n",
      "dtypes: float64(2), int64(3), object(8)\n",
      "memory usage: 2.7+ MB\n"
     ]
    }
   ],
   "source": [
    "df.info()"
   ]
  },
  {
   "cell_type": "code",
   "execution_count": 98,
   "metadata": {},
   "outputs": [
    {
     "data": {
      "text/plain": [
       "Unnamed: 0                0\n",
       "make                      0\n",
       "model                     0\n",
       "priceUSD                  0\n",
       "year                      0\n",
       "condition                 0\n",
       "mileage(kilometers)       0\n",
       "fuel_type                 0\n",
       "volume(cm3)              30\n",
       "color                     0\n",
       "transmission              0\n",
       "drive_unit             1345\n",
       "segment                3755\n",
       "dtype: int64"
      ]
     },
     "execution_count": 98,
     "metadata": {},
     "output_type": "execute_result"
    }
   ],
   "source": [
    "df.isnull().sum()"
   ]
  },
  {
   "cell_type": "code",
   "execution_count": 99,
   "metadata": {},
   "outputs": [],
   "source": [
    "df.dropna(inplace=True)"
   ]
  },
  {
   "cell_type": "markdown",
   "metadata": {},
   "source": [
    "# 4. Preprocessing the data"
   ]
  },
  {
   "cell_type": "code",
   "execution_count": 100,
   "metadata": {},
   "outputs": [],
   "source": [
    "from sklearn.preprocessing import LabelEncoder\n",
    "cat=['model','make','condition','fuel_type','color','transmission']\n",
    "lc=LabelEncoder()\n",
    "for i in cat:\n",
    "    df[i]=lc.fit_transform(df[i])"
   ]
  },
  {
   "cell_type": "code",
   "execution_count": 101,
   "metadata": {},
   "outputs": [
    {
     "data": {
      "text/html": [
       "<div>\n",
       "<style scoped>\n",
       "    .dataframe tbody tr th:only-of-type {\n",
       "        vertical-align: middle;\n",
       "    }\n",
       "\n",
       "    .dataframe tbody tr th {\n",
       "        vertical-align: top;\n",
       "    }\n",
       "\n",
       "    .dataframe thead th {\n",
       "        text-align: right;\n",
       "    }\n",
       "</style>\n",
       "<table border=\"1\" class=\"dataframe\">\n",
       "  <thead>\n",
       "    <tr style=\"text-align: right;\">\n",
       "      <th></th>\n",
       "      <th>Unnamed: 0</th>\n",
       "      <th>make</th>\n",
       "      <th>model</th>\n",
       "      <th>priceUSD</th>\n",
       "      <th>year</th>\n",
       "      <th>condition</th>\n",
       "      <th>mileage(kilometers)</th>\n",
       "      <th>fuel_type</th>\n",
       "      <th>volume(cm3)</th>\n",
       "      <th>color</th>\n",
       "      <th>transmission</th>\n",
       "      <th>drive_unit</th>\n",
       "      <th>segment</th>\n",
       "    </tr>\n",
       "  </thead>\n",
       "  <tbody>\n",
       "    <tr>\n",
       "      <th>0</th>\n",
       "      <td>0</td>\n",
       "      <td>16</td>\n",
       "      <td>118</td>\n",
       "      <td>565</td>\n",
       "      <td>1993</td>\n",
       "      <td>2</td>\n",
       "      <td>960015.0</td>\n",
       "      <td>1</td>\n",
       "      <td>2000.0</td>\n",
       "      <td>0</td>\n",
       "      <td>1</td>\n",
       "      <td>front-wheel drive</td>\n",
       "      <td>D</td>\n",
       "    </tr>\n",
       "    <tr>\n",
       "      <th>1</th>\n",
       "      <td>1</td>\n",
       "      <td>12</td>\n",
       "      <td>238</td>\n",
       "      <td>5550</td>\n",
       "      <td>2008</td>\n",
       "      <td>2</td>\n",
       "      <td>172000.0</td>\n",
       "      <td>0</td>\n",
       "      <td>1400.0</td>\n",
       "      <td>10</td>\n",
       "      <td>1</td>\n",
       "      <td>front-wheel drive</td>\n",
       "      <td>M</td>\n",
       "    </tr>\n",
       "    <tr>\n",
       "      <th>2</th>\n",
       "      <td>2</td>\n",
       "      <td>33</td>\n",
       "      <td>409</td>\n",
       "      <td>8300</td>\n",
       "      <td>2008</td>\n",
       "      <td>2</td>\n",
       "      <td>223000.0</td>\n",
       "      <td>1</td>\n",
       "      <td>2500.0</td>\n",
       "      <td>8</td>\n",
       "      <td>0</td>\n",
       "      <td>front-wheel drive</td>\n",
       "      <td>D</td>\n",
       "    </tr>\n",
       "    <tr>\n",
       "      <th>3</th>\n",
       "      <td>3</td>\n",
       "      <td>48</td>\n",
       "      <td>235</td>\n",
       "      <td>3300</td>\n",
       "      <td>2005</td>\n",
       "      <td>2</td>\n",
       "      <td>140000.0</td>\n",
       "      <td>1</td>\n",
       "      <td>1200.0</td>\n",
       "      <td>1</td>\n",
       "      <td>1</td>\n",
       "      <td>front-wheel drive</td>\n",
       "      <td>A</td>\n",
       "    </tr>\n",
       "    <tr>\n",
       "      <th>4</th>\n",
       "      <td>4</td>\n",
       "      <td>33</td>\n",
       "      <td>360</td>\n",
       "      <td>2450</td>\n",
       "      <td>2002</td>\n",
       "      <td>1</td>\n",
       "      <td>413000.0</td>\n",
       "      <td>0</td>\n",
       "      <td>2200.0</td>\n",
       "      <td>3</td>\n",
       "      <td>1</td>\n",
       "      <td>front-wheel drive</td>\n",
       "      <td>D</td>\n",
       "    </tr>\n",
       "  </tbody>\n",
       "</table>\n",
       "</div>"
      ],
      "text/plain": [
       "   Unnamed: 0  make  model  priceUSD  year  condition  mileage(kilometers)  \\\n",
       "0           0    16    118       565  1993          2             960015.0   \n",
       "1           1    12    238      5550  2008          2             172000.0   \n",
       "2           2    33    409      8300  2008          2             223000.0   \n",
       "3           3    48    235      3300  2005          2             140000.0   \n",
       "4           4    33    360      2450  2002          1             413000.0   \n",
       "\n",
       "   fuel_type  volume(cm3)  color  transmission         drive_unit segment  \n",
       "0          1       2000.0      0             1  front-wheel drive       D  \n",
       "1          0       1400.0     10             1  front-wheel drive       M  \n",
       "2          1       2500.0      8             0  front-wheel drive       D  \n",
       "3          1       1200.0      1             1  front-wheel drive       A  \n",
       "4          0       2200.0      3             1  front-wheel drive       D  "
      ]
     },
     "execution_count": 101,
     "metadata": {},
     "output_type": "execute_result"
    }
   ],
   "source": [
    "df.head()"
   ]
  },
  {
   "cell_type": "markdown",
   "metadata": {},
   "source": [
    "# 5. Feature engineering"
   ]
  },
  {
   "cell_type": "code",
   "execution_count": 102,
   "metadata": {},
   "outputs": [],
   "source": [
    "x=df.drop(['segment','drive_unit','Unnamed: 0','priceUSD'],axis=1)\n",
    "y=df['priceUSD']"
   ]
  },
  {
   "cell_type": "code",
   "execution_count": 103,
   "metadata": {},
   "outputs": [
    {
     "data": {
      "text/html": [
       "<div>\n",
       "<style scoped>\n",
       "    .dataframe tbody tr th:only-of-type {\n",
       "        vertical-align: middle;\n",
       "    }\n",
       "\n",
       "    .dataframe tbody tr th {\n",
       "        vertical-align: top;\n",
       "    }\n",
       "\n",
       "    .dataframe thead th {\n",
       "        text-align: right;\n",
       "    }\n",
       "</style>\n",
       "<table border=\"1\" class=\"dataframe\">\n",
       "  <thead>\n",
       "    <tr style=\"text-align: right;\">\n",
       "      <th></th>\n",
       "      <th>make</th>\n",
       "      <th>model</th>\n",
       "      <th>year</th>\n",
       "      <th>condition</th>\n",
       "      <th>mileage(kilometers)</th>\n",
       "      <th>fuel_type</th>\n",
       "      <th>volume(cm3)</th>\n",
       "      <th>color</th>\n",
       "      <th>transmission</th>\n",
       "    </tr>\n",
       "  </thead>\n",
       "  <tbody>\n",
       "    <tr>\n",
       "      <th>0</th>\n",
       "      <td>16</td>\n",
       "      <td>118</td>\n",
       "      <td>1993</td>\n",
       "      <td>2</td>\n",
       "      <td>960015.0</td>\n",
       "      <td>1</td>\n",
       "      <td>2000.0</td>\n",
       "      <td>0</td>\n",
       "      <td>1</td>\n",
       "    </tr>\n",
       "    <tr>\n",
       "      <th>1</th>\n",
       "      <td>12</td>\n",
       "      <td>238</td>\n",
       "      <td>2008</td>\n",
       "      <td>2</td>\n",
       "      <td>172000.0</td>\n",
       "      <td>0</td>\n",
       "      <td>1400.0</td>\n",
       "      <td>10</td>\n",
       "      <td>1</td>\n",
       "    </tr>\n",
       "    <tr>\n",
       "      <th>2</th>\n",
       "      <td>33</td>\n",
       "      <td>409</td>\n",
       "      <td>2008</td>\n",
       "      <td>2</td>\n",
       "      <td>223000.0</td>\n",
       "      <td>1</td>\n",
       "      <td>2500.0</td>\n",
       "      <td>8</td>\n",
       "      <td>0</td>\n",
       "    </tr>\n",
       "    <tr>\n",
       "      <th>3</th>\n",
       "      <td>48</td>\n",
       "      <td>235</td>\n",
       "      <td>2005</td>\n",
       "      <td>2</td>\n",
       "      <td>140000.0</td>\n",
       "      <td>1</td>\n",
       "      <td>1200.0</td>\n",
       "      <td>1</td>\n",
       "      <td>1</td>\n",
       "    </tr>\n",
       "    <tr>\n",
       "      <th>4</th>\n",
       "      <td>33</td>\n",
       "      <td>360</td>\n",
       "      <td>2002</td>\n",
       "      <td>1</td>\n",
       "      <td>413000.0</td>\n",
       "      <td>0</td>\n",
       "      <td>2200.0</td>\n",
       "      <td>3</td>\n",
       "      <td>1</td>\n",
       "    </tr>\n",
       "  </tbody>\n",
       "</table>\n",
       "</div>"
      ],
      "text/plain": [
       "   make  model  year  condition  mileage(kilometers)  fuel_type  volume(cm3)  \\\n",
       "0    16    118  1993          2             960015.0          1       2000.0   \n",
       "1    12    238  2008          2             172000.0          0       1400.0   \n",
       "2    33    409  2008          2             223000.0          1       2500.0   \n",
       "3    48    235  2005          2             140000.0          1       1200.0   \n",
       "4    33    360  2002          1             413000.0          0       2200.0   \n",
       "\n",
       "   color  transmission  \n",
       "0      0             1  \n",
       "1     10             1  \n",
       "2      8             0  \n",
       "3      1             1  \n",
       "4      3             1  "
      ]
     },
     "execution_count": 103,
     "metadata": {},
     "output_type": "execute_result"
    }
   ],
   "source": [
    "x.head()"
   ]
  },
  {
   "cell_type": "markdown",
   "metadata": {},
   "source": [
    "# 6. seperating into training and testing part"
   ]
  },
  {
   "cell_type": "code",
   "execution_count": 104,
   "metadata": {},
   "outputs": [],
   "source": [
    "from sklearn.model_selection import train_test_split\n",
    "X_train,X_test,y_train,y_test=train_test_split(x,y,test_size=0.2,random_state=112)"
   ]
  },
  {
   "cell_type": "code",
   "execution_count": 105,
   "metadata": {},
   "outputs": [],
   "source": [
    "from sklearn.preprocessing import StandardScaler\n",
    "sc=StandardScaler()\n",
    "X_train=sc.fit_transform(X_train)\n",
    "X_test=sc.transform(X_test)"
   ]
  },
  {
   "cell_type": "markdown",
   "metadata": {},
   "source": [
    "# 7. Training the model"
   ]
  },
  {
   "cell_type": "code",
   "execution_count": 106,
   "metadata": {},
   "outputs": [],
   "source": [
    "from sklearn.linear_model import LinearRegression\n",
    "model=LinearRegression()\n",
    "result=model.fit(X_train,y_train)"
   ]
  },
  {
   "cell_type": "markdown",
   "metadata": {},
   "source": [
    "# 8. Testing the model"
   ]
  },
  {
   "cell_type": "code",
   "execution_count": 107,
   "metadata": {},
   "outputs": [
    {
     "data": {
      "text/plain": [
       "array([11689.30699015,  1972.15122353,  3334.54495025, ...,\n",
       "        2870.00663157,  4093.96589873,  2795.84558226])"
      ]
     },
     "execution_count": 107,
     "metadata": {},
     "output_type": "execute_result"
    }
   ],
   "source": [
    "prediction=model.predict(X_test)\n",
    "prediction"
   ]
  },
  {
   "cell_type": "markdown",
   "metadata": {},
   "source": [
    "# 9. Calculating accuracy"
   ]
  },
  {
   "cell_type": "code",
   "execution_count": 108,
   "metadata": {},
   "outputs": [
    {
     "data": {
      "text/plain": [
       "0.5140332600197584"
      ]
     },
     "execution_count": 108,
     "metadata": {},
     "output_type": "execute_result"
    }
   ],
   "source": [
    "from sklearn.metrics import r2_score\n",
    "r2_score(y_test,prediction)"
   ]
  },
  {
   "cell_type": "markdown",
   "metadata": {},
   "source": [
    "# 10. Deploying the model"
   ]
  },
  {
   "cell_type": "code",
   "execution_count": 109,
   "metadata": {},
   "outputs": [
    {
     "data": {
      "text/plain": [
       "array([-1087883.6113301])"
      ]
     },
     "execution_count": 109,
     "metadata": {},
     "output_type": "execute_result"
    }
   ],
   "source": [
    "new_prediction=result.predict([[32,165,45,2,6289,2,206,0,1]])\n",
    "new_prediction"
   ]
  },
  {
   "cell_type": "markdown",
   "metadata": {},
   "source": [
    "# 11. Data visualization "
   ]
  },
  {
   "cell_type": "code",
   "execution_count": 111,
   "metadata": {},
   "outputs": [
    {
     "data": {
      "text/plain": [
       "<matplotlib.axes._subplots.AxesSubplot at 0x125d24c0>"
      ]
     },
     "execution_count": 111,
     "metadata": {},
     "output_type": "execute_result"
    },
    {
     "data": {
      "image/png": "[encoded data removed]",
      "text/plain": [
       "<Figure size 432x288 with 1 Axes>"
      ]
     },
     "metadata": {
      "needs_background": "light"
     },
     "output_type": "display_data"
    }
   ],
   "source": [
    "sns.barplot(x='priceUSD',y='segment',data=df)"
   ]
  },
  {
   "cell_type": "code",
   "execution_count": 113,
   "metadata": {},
   "outputs": [
    {
     "data": {
      "text/plain": [
       "<matplotlib.axes._subplots.AxesSubplot at 0x180809e8>"
      ]
     },
     "execution_count": 113,
     "metadata": {},
     "output_type": "execute_result"
    },
    {
     "data": {
      "image/png": "[encoded data removed]",
      "text/plain": [
       "<Figure size 1944x432 with 1 Axes>"
      ]
     },
     "metadata": {
      "needs_background": "light"
     },
     "output_type": "display_data"
    }
   ],
   "source": [
    "plt.figure(figsize=(27, 6))\n",
    "sns.barplot(x='priceUSD',y='year',data=df)"
   ]
  }
 ],
 "metadata": {
  "kernelspec": {
   "display_name": "Python 3",
   "language": "python",
   "name": "python3"
  },
  "language_info": {
   "codemirror_mode": {
    "name": "ipython",
    "version": 3
   },
   "file_extension": ".py",
   "mimetype": "text/x-python",
   "name": "python",
   "nbconvert_exporter": "python",
   "pygments_lexer": "ipython3",
   "version": "3.8.2"
  }
 },
 "nbformat": 4,
 "nbformat_minor": 4
}
